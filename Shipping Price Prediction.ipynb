{
 "cells": [
  {
   "cell_type": "code",
   "execution_count": 1,
   "metadata": {},
   "outputs": [],
   "source": [
    "import pandas as pd\n",
    "import numpy as np\n",
    "from sklearn.metrics import mean_squared_log_error\n",
    "from sklearn.model_selection import cross_val_score, train_test_split\n",
    "from sklearn.ensemble import RandomForestRegressor, ExtraTreesRegressor, GradientBoostingRegressor\n",
    "from xgboost import XGBRegressor\n",
    "import matplotlib.pyplot as plt\n",
    "%matplotlib inline\n",
    "import warnings\n",
    "warnings.filterwarnings(\"ignore\")\n",
    "import seaborn as sns\n",
    "from sklearn.preprocessing import LabelEncoder\n",
    "from lightgbm import LGBMRegressor\n",
    "from catboost import CatBoostRegressor\n",
    "from sklearn.preprocessing import PowerTransformer"
   ]
  },
  {
   "cell_type": "code",
   "execution_count": 2,
   "metadata": {},
   "outputs": [
    {
     "data": {
      "text/plain": [
       "((6500, 20), (3500, 19))"
      ]
     },
     "execution_count": 2,
     "metadata": {},
     "output_type": "execute_result"
    }
   ],
   "source": [
    "train=pd.read_csv(\"train.csv\", parse_dates=[\"Scheduled Date\",\"Delivery Date\"])\n",
    "test=pd.read_csv(\"test.csv\", parse_dates=[\"Scheduled Date\",\"Delivery Date\"])\n",
    "train.shape, test.shape"
   ]
  },
  {
   "cell_type": "code",
   "execution_count": 3,
   "metadata": {},
   "outputs": [
    {
     "data": {
      "text/html": [
       "<div>\n",
       "<style scoped>\n",
       "    .dataframe tbody tr th:only-of-type {\n",
       "        vertical-align: middle;\n",
       "    }\n",
       "\n",
       "    .dataframe tbody tr th {\n",
       "        vertical-align: top;\n",
       "    }\n",
       "\n",
       "    .dataframe thead th {\n",
       "        text-align: right;\n",
       "    }\n",
       "</style>\n",
       "<table border=\"1\" class=\"dataframe\">\n",
       "  <thead>\n",
       "    <tr style=\"text-align: right;\">\n",
       "      <th></th>\n",
       "      <th>Customer Id</th>\n",
       "      <th>Artist Name</th>\n",
       "      <th>Artist Reputation</th>\n",
       "      <th>Height</th>\n",
       "      <th>Width</th>\n",
       "      <th>Weight</th>\n",
       "      <th>Material</th>\n",
       "      <th>Price Of Sculpture</th>\n",
       "      <th>Base Shipping Price</th>\n",
       "      <th>International</th>\n",
       "      <th>Express Shipment</th>\n",
       "      <th>Installation Included</th>\n",
       "      <th>Transport</th>\n",
       "      <th>Fragile</th>\n",
       "      <th>Customer Information</th>\n",
       "      <th>Remote Location</th>\n",
       "      <th>Scheduled Date</th>\n",
       "      <th>Delivery Date</th>\n",
       "      <th>Customer Location</th>\n",
       "    </tr>\n",
       "  </thead>\n",
       "  <tbody>\n",
       "    <tr>\n",
       "      <th>77</th>\n",
       "      <td>fffe3300360039003100</td>\n",
       "      <td>Catherine Schlager</td>\n",
       "      <td>0.44</td>\n",
       "      <td>27.0</td>\n",
       "      <td>11.0</td>\n",
       "      <td>554163.0</td>\n",
       "      <td>Marble</td>\n",
       "      <td>2279.74</td>\n",
       "      <td>64.84</td>\n",
       "      <td>No</td>\n",
       "      <td>No</td>\n",
       "      <td>Yes</td>\n",
       "      <td>Roadways</td>\n",
       "      <td>No</td>\n",
       "      <td>Working Class</td>\n",
       "      <td>No</td>\n",
       "      <td>2016-09-27</td>\n",
       "      <td>2016-09-27</td>\n",
       "      <td>Kaylabury, CA 93385</td>\n",
       "    </tr>\n",
       "  </tbody>\n",
       "</table>\n",
       "</div>"
      ],
      "text/plain": [
       "             Customer Id         Artist Name  Artist Reputation  Height  \\\n",
       "77  fffe3300360039003100  Catherine Schlager               0.44    27.0   \n",
       "\n",
       "    Width    Weight Material  Price Of Sculpture  Base Shipping Price  \\\n",
       "77   11.0  554163.0   Marble             2279.74                64.84   \n",
       "\n",
       "   International Express Shipment Installation Included Transport Fragile  \\\n",
       "77            No               No                   Yes  Roadways      No   \n",
       "\n",
       "   Customer Information Remote Location Scheduled Date Delivery Date  \\\n",
       "77        Working Class              No     2016-09-27    2016-09-27   \n",
       "\n",
       "      Customer Location  \n",
       "77  Kaylabury, CA 93385  "
      ]
     },
     "execution_count": 3,
     "metadata": {},
     "output_type": "execute_result"
    }
   ],
   "source": [
    "test.sample()"
   ]
  },
  {
   "cell_type": "code",
   "execution_count": 4,
   "metadata": {},
   "outputs": [],
   "source": [
    "test_id=test[\"Customer Id\"]"
   ]
  },
  {
   "cell_type": "code",
   "execution_count": 5,
   "metadata": {},
   "outputs": [
    {
     "data": {
      "text/html": [
       "<div>\n",
       "<style scoped>\n",
       "    .dataframe tbody tr th:only-of-type {\n",
       "        vertical-align: middle;\n",
       "    }\n",
       "\n",
       "    .dataframe tbody tr th {\n",
       "        vertical-align: top;\n",
       "    }\n",
       "\n",
       "    .dataframe thead th {\n",
       "        text-align: right;\n",
       "    }\n",
       "</style>\n",
       "<table border=\"1\" class=\"dataframe\">\n",
       "  <thead>\n",
       "    <tr style=\"text-align: right;\">\n",
       "      <th></th>\n",
       "      <th>Customer Id</th>\n",
       "      <th>Artist Name</th>\n",
       "      <th>Artist Reputation</th>\n",
       "      <th>Height</th>\n",
       "      <th>Width</th>\n",
       "      <th>Weight</th>\n",
       "      <th>Material</th>\n",
       "      <th>Price Of Sculpture</th>\n",
       "      <th>Base Shipping Price</th>\n",
       "      <th>International</th>\n",
       "      <th>Express Shipment</th>\n",
       "      <th>Installation Included</th>\n",
       "      <th>Transport</th>\n",
       "      <th>Fragile</th>\n",
       "      <th>Customer Information</th>\n",
       "      <th>Remote Location</th>\n",
       "      <th>Scheduled Date</th>\n",
       "      <th>Delivery Date</th>\n",
       "      <th>Customer Location</th>\n",
       "      <th>Cost</th>\n",
       "    </tr>\n",
       "  </thead>\n",
       "  <tbody>\n",
       "    <tr>\n",
       "      <th>5122</th>\n",
       "      <td>fffe3200390039003300</td>\n",
       "      <td>Sonia Philpot</td>\n",
       "      <td>0.31</td>\n",
       "      <td>22.0</td>\n",
       "      <td>NaN</td>\n",
       "      <td>5642.0</td>\n",
       "      <td>Brass</td>\n",
       "      <td>8.77</td>\n",
       "      <td>45.75</td>\n",
       "      <td>No</td>\n",
       "      <td>No</td>\n",
       "      <td>No</td>\n",
       "      <td>NaN</td>\n",
       "      <td>No</td>\n",
       "      <td>Working Class</td>\n",
       "      <td>NaN</td>\n",
       "      <td>2016-03-11</td>\n",
       "      <td>2016-03-09</td>\n",
       "      <td>Aaronhaven, TX 19232</td>\n",
       "      <td>436.25</td>\n",
       "    </tr>\n",
       "    <tr>\n",
       "      <th>4247</th>\n",
       "      <td>fffe3500390039003200</td>\n",
       "      <td>Norma Johnson</td>\n",
       "      <td>0.35</td>\n",
       "      <td>35.0</td>\n",
       "      <td>19.0</td>\n",
       "      <td>71033.0</td>\n",
       "      <td>Bronze</td>\n",
       "      <td>94.32</td>\n",
       "      <td>66.97</td>\n",
       "      <td>No</td>\n",
       "      <td>No</td>\n",
       "      <td>No</td>\n",
       "      <td>NaN</td>\n",
       "      <td>No</td>\n",
       "      <td>Working Class</td>\n",
       "      <td>No</td>\n",
       "      <td>2018-05-19</td>\n",
       "      <td>2018-05-20</td>\n",
       "      <td>Port Michelle, IL 10374</td>\n",
       "      <td>1509.77</td>\n",
       "    </tr>\n",
       "    <tr>\n",
       "      <th>5092</th>\n",
       "      <td>fffe3600340034003600</td>\n",
       "      <td>Tamara Hill</td>\n",
       "      <td>0.07</td>\n",
       "      <td>33.0</td>\n",
       "      <td>8.0</td>\n",
       "      <td>477.0</td>\n",
       "      <td>Wood</td>\n",
       "      <td>4.32</td>\n",
       "      <td>24.54</td>\n",
       "      <td>No</td>\n",
       "      <td>Yes</td>\n",
       "      <td>Yes</td>\n",
       "      <td>NaN</td>\n",
       "      <td>No</td>\n",
       "      <td>Working Class</td>\n",
       "      <td>No</td>\n",
       "      <td>2019-02-07</td>\n",
       "      <td>2019-02-11</td>\n",
       "      <td>East Diana, UT 84865</td>\n",
       "      <td>151.53</td>\n",
       "    </tr>\n",
       "    <tr>\n",
       "      <th>2254</th>\n",
       "      <td>fffe3400380035003000</td>\n",
       "      <td>Matthew Turkin</td>\n",
       "      <td>0.39</td>\n",
       "      <td>17.0</td>\n",
       "      <td>8.0</td>\n",
       "      <td>566.0</td>\n",
       "      <td>NaN</td>\n",
       "      <td>6.07</td>\n",
       "      <td>20.75</td>\n",
       "      <td>No</td>\n",
       "      <td>No</td>\n",
       "      <td>Yes</td>\n",
       "      <td>Roadways</td>\n",
       "      <td>No</td>\n",
       "      <td>Working Class</td>\n",
       "      <td>NaN</td>\n",
       "      <td>2017-12-28</td>\n",
       "      <td>2017-12-28</td>\n",
       "      <td>APO AP 82136</td>\n",
       "      <td>256.95</td>\n",
       "    </tr>\n",
       "    <tr>\n",
       "      <th>1579</th>\n",
       "      <td>fffe3500390031003500</td>\n",
       "      <td>Tonia Sidwell</td>\n",
       "      <td>0.58</td>\n",
       "      <td>6.0</td>\n",
       "      <td>4.0</td>\n",
       "      <td>42.0</td>\n",
       "      <td>Wood</td>\n",
       "      <td>6.66</td>\n",
       "      <td>15.34</td>\n",
       "      <td>No</td>\n",
       "      <td>No</td>\n",
       "      <td>Yes</td>\n",
       "      <td>Roadways</td>\n",
       "      <td>No</td>\n",
       "      <td>Working Class</td>\n",
       "      <td>No</td>\n",
       "      <td>2016-05-24</td>\n",
       "      <td>2016-05-27</td>\n",
       "      <td>Elizabethside, UT 53628</td>\n",
       "      <td>201.72</td>\n",
       "    </tr>\n",
       "  </tbody>\n",
       "</table>\n",
       "</div>"
      ],
      "text/plain": [
       "               Customer Id     Artist Name  Artist Reputation  Height  Width  \\\n",
       "5122  fffe3200390039003300   Sonia Philpot               0.31    22.0    NaN   \n",
       "4247  fffe3500390039003200   Norma Johnson               0.35    35.0   19.0   \n",
       "5092  fffe3600340034003600     Tamara Hill               0.07    33.0    8.0   \n",
       "2254  fffe3400380035003000  Matthew Turkin               0.39    17.0    8.0   \n",
       "1579  fffe3500390031003500   Tonia Sidwell               0.58     6.0    4.0   \n",
       "\n",
       "       Weight Material  Price Of Sculpture  Base Shipping Price International  \\\n",
       "5122   5642.0    Brass                8.77                45.75            No   \n",
       "4247  71033.0   Bronze               94.32                66.97            No   \n",
       "5092    477.0     Wood                4.32                24.54            No   \n",
       "2254    566.0      NaN                6.07                20.75            No   \n",
       "1579     42.0     Wood                6.66                15.34            No   \n",
       "\n",
       "     Express Shipment Installation Included Transport Fragile  \\\n",
       "5122               No                    No       NaN      No   \n",
       "4247               No                    No       NaN      No   \n",
       "5092              Yes                   Yes       NaN      No   \n",
       "2254               No                   Yes  Roadways      No   \n",
       "1579               No                   Yes  Roadways      No   \n",
       "\n",
       "     Customer Information Remote Location Scheduled Date Delivery Date  \\\n",
       "5122        Working Class             NaN     2016-03-11    2016-03-09   \n",
       "4247        Working Class              No     2018-05-19    2018-05-20   \n",
       "5092        Working Class              No     2019-02-07    2019-02-11   \n",
       "2254        Working Class             NaN     2017-12-28    2017-12-28   \n",
       "1579        Working Class              No     2016-05-24    2016-05-27   \n",
       "\n",
       "            Customer Location     Cost  \n",
       "5122     Aaronhaven, TX 19232   436.25  \n",
       "4247  Port Michelle, IL 10374  1509.77  \n",
       "5092     East Diana, UT 84865   151.53  \n",
       "2254             APO AP 82136   256.95  \n",
       "1579  Elizabethside, UT 53628   201.72  "
      ]
     },
     "execution_count": 5,
     "metadata": {},
     "output_type": "execute_result"
    }
   ],
   "source": [
    "train.sample(5)"
   ]
  },
  {
   "cell_type": "code",
   "execution_count": 6,
   "metadata": {},
   "outputs": [],
   "source": [
    "data=pd.concat((train, test), axis=0)"
   ]
  },
  {
   "cell_type": "code",
   "execution_count": 7,
   "metadata": {},
   "outputs": [
    {
     "name": "stdout",
     "output_type": "stream",
     "text": [
      "<class 'pandas.core.frame.DataFrame'>\n",
      "Int64Index: 10000 entries, 0 to 3499\n",
      "Data columns (total 20 columns):\n",
      " #   Column                 Non-Null Count  Dtype         \n",
      "---  ------                 --------------  -----         \n",
      " 0   Customer Id            10000 non-null  object        \n",
      " 1   Artist Name            10000 non-null  object        \n",
      " 2   Artist Reputation      9028 non-null   float64       \n",
      " 3   Height                 9506 non-null   float64       \n",
      " 4   Width                  9275 non-null   float64       \n",
      " 5   Weight                 9264 non-null   float64       \n",
      " 6   Material               9236 non-null   object        \n",
      " 7   Price Of Sculpture     10000 non-null  float64       \n",
      " 8   Base Shipping Price    10000 non-null  float64       \n",
      " 9   International          10000 non-null  object        \n",
      " 10  Express Shipment       10000 non-null  object        \n",
      " 11  Installation Included  10000 non-null  object        \n",
      " 12  Transport              8376 non-null   object        \n",
      " 13  Fragile                10000 non-null  object        \n",
      " 14  Customer Information   10000 non-null  object        \n",
      " 15  Remote Location        9229 non-null   object        \n",
      " 16  Scheduled Date         10000 non-null  datetime64[ns]\n",
      " 17  Delivery Date          10000 non-null  datetime64[ns]\n",
      " 18  Customer Location      10000 non-null  object        \n",
      " 19  Cost                   6500 non-null   float64       \n",
      "dtypes: datetime64[ns](2), float64(7), object(11)\n",
      "memory usage: 1.6+ MB\n"
     ]
    }
   ],
   "source": [
    "data.info()"
   ]
  },
  {
   "cell_type": "code",
   "execution_count": 8,
   "metadata": {},
   "outputs": [
    {
     "data": {
      "text/plain": [
       "Customer Id              10000\n",
       "Artist Name               9865\n",
       "Artist Reputation          101\n",
       "Height                      66\n",
       "Width                       42\n",
       "Weight                    6320\n",
       "Material                     7\n",
       "Price Of Sculpture        4813\n",
       "Base Shipping Price       4744\n",
       "International                2\n",
       "Express Shipment             2\n",
       "Installation Included        2\n",
       "Transport                    3\n",
       "Fragile                      2\n",
       "Customer Information         2\n",
       "Remote Location              2\n",
       "Scheduled Date            1697\n",
       "Delivery Date             1699\n",
       "Customer Location         9999\n",
       "Cost                      6356\n",
       "dtype: int64"
      ]
     },
     "execution_count": 8,
     "metadata": {},
     "output_type": "execute_result"
    }
   ],
   "source": [
    "data.nunique()"
   ]
  },
  {
   "cell_type": "code",
   "execution_count": 9,
   "metadata": {},
   "outputs": [],
   "source": [
    "data.drop([\"Customer Id\",\"Artist Name\"], axis=1, inplace=True)"
   ]
  },
  {
   "cell_type": "code",
   "execution_count": 10,
   "metadata": {},
   "outputs": [],
   "source": [
    "data[\"location\"]=data[\"Customer Location\"].str[-8:-6]\n",
    "data.drop([\"Customer Location\"], axis=1, inplace=True)"
   ]
  },
  {
   "cell_type": "code",
   "execution_count": 11,
   "metadata": {},
   "outputs": [],
   "source": [
    "data[\"days\"]=(data[\"Scheduled Date\"]- data[\"Delivery Date\"]).dt.days\n",
    "data.drop([\"Scheduled Date\",\"Delivery Date\"], axis=1, inplace=True)"
   ]
  },
  {
   "cell_type": "code",
   "execution_count": 12,
   "metadata": {},
   "outputs": [
    {
     "name": "stdout",
     "output_type": "stream",
     "text": [
      "<class 'pandas.core.frame.DataFrame'>\n",
      "Int64Index: 10000 entries, 0 to 3499\n",
      "Data columns (total 17 columns):\n",
      " #   Column                 Non-Null Count  Dtype  \n",
      "---  ------                 --------------  -----  \n",
      " 0   Artist Reputation      9028 non-null   float64\n",
      " 1   Height                 9506 non-null   float64\n",
      " 2   Width                  9275 non-null   float64\n",
      " 3   Weight                 9264 non-null   float64\n",
      " 4   Material               9236 non-null   object \n",
      " 5   Price Of Sculpture     10000 non-null  float64\n",
      " 6   Base Shipping Price    10000 non-null  float64\n",
      " 7   International          10000 non-null  object \n",
      " 8   Express Shipment       10000 non-null  object \n",
      " 9   Installation Included  10000 non-null  object \n",
      " 10  Transport              8376 non-null   object \n",
      " 11  Fragile                10000 non-null  object \n",
      " 12  Customer Information   10000 non-null  object \n",
      " 13  Remote Location        9229 non-null   object \n",
      " 14  Cost                   6500 non-null   float64\n",
      " 15  location               10000 non-null  object \n",
      " 16  days                   10000 non-null  int64  \n",
      "dtypes: float64(7), int64(1), object(9)\n",
      "memory usage: 1.4+ MB\n"
     ]
    }
   ],
   "source": [
    "data.info()"
   ]
  },
  {
   "cell_type": "code",
   "execution_count": 13,
   "metadata": {},
   "outputs": [],
   "source": [
    "mean=np.mean(data[\"Artist Reputation\"])\n",
    "data[\"Artist Reputation\"].fillna(mean, inplace=True)\n",
    "\n",
    "mean=np.mean(data[\"Height\"])\n",
    "data[\"Height\"].fillna(mean, inplace=True)\n",
    " \n",
    "mean=np.mean(data[\"Width\"])\n",
    "data[\"Width\"].fillna(mean, inplace=True)\n",
    "\n",
    "mean=np.mean(data[\"Weight\"])\n",
    "data[\"Weight\"].fillna(mean, inplace=True)"
   ]
  },
  {
   "cell_type": "code",
   "execution_count": 14,
   "metadata": {},
   "outputs": [],
   "source": [
    "#most_freq=(data[\"Material\"]).mode()[0]\n",
    "data[\"Material\"].fillna(\"New\", inplace=True)\n",
    "\n",
    "most_freq=(data[\"Transport\"]).mode()[0]\n",
    "data[\"Transport\"].fillna(\"New\", inplace=True)\n",
    "\n",
    "#most_freq=(data[\"Transport\"]).mode()[0]\n",
    "data[\"Remote Location\"].fillna(\"New\", inplace=True)"
   ]
  },
  {
   "cell_type": "code",
   "execution_count": 15,
   "metadata": {},
   "outputs": [
    {
     "name": "stdout",
     "output_type": "stream",
     "text": [
      "<class 'pandas.core.frame.DataFrame'>\n",
      "Int64Index: 10000 entries, 0 to 3499\n",
      "Data columns (total 17 columns):\n",
      " #   Column                 Non-Null Count  Dtype  \n",
      "---  ------                 --------------  -----  \n",
      " 0   Artist Reputation      10000 non-null  float64\n",
      " 1   Height                 10000 non-null  float64\n",
      " 2   Width                  10000 non-null  float64\n",
      " 3   Weight                 10000 non-null  float64\n",
      " 4   Material               10000 non-null  object \n",
      " 5   Price Of Sculpture     10000 non-null  float64\n",
      " 6   Base Shipping Price    10000 non-null  float64\n",
      " 7   International          10000 non-null  object \n",
      " 8   Express Shipment       10000 non-null  object \n",
      " 9   Installation Included  10000 non-null  object \n",
      " 10  Transport              10000 non-null  object \n",
      " 11  Fragile                10000 non-null  object \n",
      " 12  Customer Information   10000 non-null  object \n",
      " 13  Remote Location        10000 non-null  object \n",
      " 14  Cost                   6500 non-null   float64\n",
      " 15  location               10000 non-null  object \n",
      " 16  days                   10000 non-null  int64  \n",
      "dtypes: float64(7), int64(1), object(9)\n",
      "memory usage: 1.4+ MB\n"
     ]
    }
   ],
   "source": [
    "data.info()"
   ]
  },
  {
   "cell_type": "code",
   "execution_count": 16,
   "metadata": {},
   "outputs": [
    {
     "data": {
      "text/plain": [
       "['Material',\n",
       " 'International',\n",
       " 'Express Shipment',\n",
       " 'Installation Included',\n",
       " 'Transport',\n",
       " 'Fragile',\n",
       " 'Customer Information',\n",
       " 'Remote Location',\n",
       " 'location']"
      ]
     },
     "execution_count": 16,
     "metadata": {},
     "output_type": "execute_result"
    }
   ],
   "source": [
    "cat_col=[]\n",
    "le=LabelEncoder()\n",
    "for i in data.select_dtypes(include=\"object\").columns:\n",
    "    cat_col.append(i)\n",
    "    data[i]=le.fit_transform(data[i])\n",
    "    \n",
    "cat_col"
   ]
  },
  {
   "cell_type": "code",
   "execution_count": 17,
   "metadata": {},
   "outputs": [],
   "source": [
    "agg_data={\n",
    "    'Artist Reputation':['sum','max','min','mean'],\n",
    "    'Price Of Sculpture':['sum','max','min','mean'],\n",
    "    'Base Shipping Price':['mean','max']\n",
    "    \n",
    "}\n",
    "\n",
    "df = data.groupby(['Material']).agg(agg_data)\n",
    "\n",
    "df.columns=['A_' + '_'.join(col).strip() for col in df.columns.values]\n",
    "df.reset_index(inplace=True)\n",
    "df.head()\n",
    "data=data.merge(df,on='Material',how='left')"
   ]
  },
  {
   "cell_type": "code",
   "execution_count": 18,
   "metadata": {},
   "outputs": [
    {
     "name": "stdout",
     "output_type": "stream",
     "text": [
      "['A_Price Of Sculpture_max', 'A_Price Of Sculpture_min', 'A_Price Of Sculpture_mean']\n"
     ]
    }
   ],
   "source": [
    "to_drop=[]\n",
    "corr_matrix = data.drop(['Cost'],axis=1).corr()\n",
    "# print(corr_matrix)\n",
    "upper = corr_matrix.where(np.triu(np.ones(corr_matrix.shape), k=1).astype(np.bool))\n",
    "upper   \n",
    "\n",
    "to_drop = [column for column in upper.columns if any(upper[column] > 0.9)]\n",
    "print(to_drop)\n"
   ]
  },
  {
   "cell_type": "code",
   "execution_count": 19,
   "metadata": {},
   "outputs": [],
   "source": [
    "data.drop(to_drop,inplace=True,axis=1)"
   ]
  },
  {
   "cell_type": "code",
   "execution_count": 20,
   "metadata": {},
   "outputs": [
    {
     "data": {
      "text/html": [
       "<div>\n",
       "<style scoped>\n",
       "    .dataframe tbody tr th:only-of-type {\n",
       "        vertical-align: middle;\n",
       "    }\n",
       "\n",
       "    .dataframe tbody tr th {\n",
       "        vertical-align: top;\n",
       "    }\n",
       "\n",
       "    .dataframe thead th {\n",
       "        text-align: right;\n",
       "    }\n",
       "</style>\n",
       "<table border=\"1\" class=\"dataframe\">\n",
       "  <thead>\n",
       "    <tr style=\"text-align: right;\">\n",
       "      <th></th>\n",
       "      <th>Artist Reputation</th>\n",
       "      <th>Height</th>\n",
       "      <th>Width</th>\n",
       "      <th>Weight</th>\n",
       "      <th>Material</th>\n",
       "      <th>Price Of Sculpture</th>\n",
       "      <th>Base Shipping Price</th>\n",
       "      <th>International</th>\n",
       "      <th>Express Shipment</th>\n",
       "      <th>Installation Included</th>\n",
       "      <th>...</th>\n",
       "      <th>B_Artist Reputation_sum</th>\n",
       "      <th>B_Artist Reputation_max</th>\n",
       "      <th>B_Artist Reputation_min</th>\n",
       "      <th>B_Artist Reputation_mean</th>\n",
       "      <th>B_Price Of Sculpture_sum</th>\n",
       "      <th>B_Price Of Sculpture_max</th>\n",
       "      <th>B_Price Of Sculpture_min</th>\n",
       "      <th>B_Price Of Sculpture_mean</th>\n",
       "      <th>B_Base Shipping Price_mean</th>\n",
       "      <th>B_Base Shipping Price_max</th>\n",
       "    </tr>\n",
       "  </thead>\n",
       "  <tbody>\n",
       "    <tr>\n",
       "      <th>0</th>\n",
       "      <td>0.26</td>\n",
       "      <td>17.0</td>\n",
       "      <td>6.000000</td>\n",
       "      <td>4128.000000</td>\n",
       "      <td>1</td>\n",
       "      <td>13.91</td>\n",
       "      <td>16.27</td>\n",
       "      <td>1</td>\n",
       "      <td>1</td>\n",
       "      <td>0</td>\n",
       "      <td>...</td>\n",
       "      <td>2859.892378</td>\n",
       "      <td>1.0</td>\n",
       "      <td>0.0</td>\n",
       "      <td>0.461496</td>\n",
       "      <td>6.598958e+06</td>\n",
       "      <td>382385.67</td>\n",
       "      <td>3.0</td>\n",
       "      <td>1064.863259</td>\n",
       "      <td>38.260155</td>\n",
       "      <td>99.98</td>\n",
       "    </tr>\n",
       "    <tr>\n",
       "      <th>1</th>\n",
       "      <td>0.28</td>\n",
       "      <td>3.0</td>\n",
       "      <td>3.000000</td>\n",
       "      <td>61.000000</td>\n",
       "      <td>1</td>\n",
       "      <td>6.83</td>\n",
       "      <td>15.00</td>\n",
       "      <td>0</td>\n",
       "      <td>0</td>\n",
       "      <td>0</td>\n",
       "      <td>...</td>\n",
       "      <td>2859.892378</td>\n",
       "      <td>1.0</td>\n",
       "      <td>0.0</td>\n",
       "      <td>0.461496</td>\n",
       "      <td>6.598958e+06</td>\n",
       "      <td>382385.67</td>\n",
       "      <td>3.0</td>\n",
       "      <td>1064.863259</td>\n",
       "      <td>38.260155</td>\n",
       "      <td>99.98</td>\n",
       "    </tr>\n",
       "    <tr>\n",
       "      <th>2</th>\n",
       "      <td>0.07</td>\n",
       "      <td>8.0</td>\n",
       "      <td>5.000000</td>\n",
       "      <td>237.000000</td>\n",
       "      <td>3</td>\n",
       "      <td>4.96</td>\n",
       "      <td>21.18</td>\n",
       "      <td>0</td>\n",
       "      <td>0</td>\n",
       "      <td>0</td>\n",
       "      <td>...</td>\n",
       "      <td>545.632992</td>\n",
       "      <td>1.0</td>\n",
       "      <td>0.0</td>\n",
       "      <td>0.460839</td>\n",
       "      <td>1.865836e+06</td>\n",
       "      <td>93376.59</td>\n",
       "      <td>3.0</td>\n",
       "      <td>1575.874797</td>\n",
       "      <td>30.379569</td>\n",
       "      <td>99.45</td>\n",
       "    </tr>\n",
       "    <tr>\n",
       "      <th>3</th>\n",
       "      <td>0.12</td>\n",
       "      <td>9.0</td>\n",
       "      <td>9.528625</td>\n",
       "      <td>391388.296848</td>\n",
       "      <td>0</td>\n",
       "      <td>5.81</td>\n",
       "      <td>16.31</td>\n",
       "      <td>0</td>\n",
       "      <td>0</td>\n",
       "      <td>0</td>\n",
       "      <td>...</td>\n",
       "      <td>1022.922813</td>\n",
       "      <td>1.0</td>\n",
       "      <td>0.0</td>\n",
       "      <td>0.465388</td>\n",
       "      <td>2.483274e+06</td>\n",
       "      <td>231660.46</td>\n",
       "      <td>3.0</td>\n",
       "      <td>1129.788116</td>\n",
       "      <td>38.426233</td>\n",
       "      <td>99.91</td>\n",
       "    </tr>\n",
       "    <tr>\n",
       "      <th>4</th>\n",
       "      <td>0.15</td>\n",
       "      <td>17.0</td>\n",
       "      <td>6.000000</td>\n",
       "      <td>324.000000</td>\n",
       "      <td>0</td>\n",
       "      <td>3.18</td>\n",
       "      <td>11.94</td>\n",
       "      <td>1</td>\n",
       "      <td>1</td>\n",
       "      <td>1</td>\n",
       "      <td>...</td>\n",
       "      <td>2859.892378</td>\n",
       "      <td>1.0</td>\n",
       "      <td>0.0</td>\n",
       "      <td>0.461496</td>\n",
       "      <td>6.598958e+06</td>\n",
       "      <td>382385.67</td>\n",
       "      <td>3.0</td>\n",
       "      <td>1064.863259</td>\n",
       "      <td>38.260155</td>\n",
       "      <td>99.98</td>\n",
       "    </tr>\n",
       "  </tbody>\n",
       "</table>\n",
       "<p>5 rows × 34 columns</p>\n",
       "</div>"
      ],
      "text/plain": [
       "   Artist Reputation  Height     Width         Weight  Material  \\\n",
       "0               0.26    17.0  6.000000    4128.000000         1   \n",
       "1               0.28     3.0  3.000000      61.000000         1   \n",
       "2               0.07     8.0  5.000000     237.000000         3   \n",
       "3               0.12     9.0  9.528625  391388.296848         0   \n",
       "4               0.15    17.0  6.000000     324.000000         0   \n",
       "\n",
       "   Price Of Sculpture  Base Shipping Price  International  Express Shipment  \\\n",
       "0               13.91                16.27              1                 1   \n",
       "1                6.83                15.00              0                 0   \n",
       "2                4.96                21.18              0                 0   \n",
       "3                5.81                16.31              0                 0   \n",
       "4                3.18                11.94              1                 1   \n",
       "\n",
       "   Installation Included  ...  B_Artist Reputation_sum  \\\n",
       "0                      0  ...              2859.892378   \n",
       "1                      0  ...              2859.892378   \n",
       "2                      0  ...               545.632992   \n",
       "3                      0  ...              1022.922813   \n",
       "4                      1  ...              2859.892378   \n",
       "\n",
       "   B_Artist Reputation_max  B_Artist Reputation_min  B_Artist Reputation_mean  \\\n",
       "0                      1.0                      0.0                  0.461496   \n",
       "1                      1.0                      0.0                  0.461496   \n",
       "2                      1.0                      0.0                  0.460839   \n",
       "3                      1.0                      0.0                  0.465388   \n",
       "4                      1.0                      0.0                  0.461496   \n",
       "\n",
       "   B_Price Of Sculpture_sum  B_Price Of Sculpture_max  \\\n",
       "0              6.598958e+06                 382385.67   \n",
       "1              6.598958e+06                 382385.67   \n",
       "2              1.865836e+06                  93376.59   \n",
       "3              2.483274e+06                 231660.46   \n",
       "4              6.598958e+06                 382385.67   \n",
       "\n",
       "   B_Price Of Sculpture_min  B_Price Of Sculpture_mean  \\\n",
       "0                       3.0                1064.863259   \n",
       "1                       3.0                1064.863259   \n",
       "2                       3.0                1575.874797   \n",
       "3                       3.0                1129.788116   \n",
       "4                       3.0                1064.863259   \n",
       "\n",
       "   B_Base Shipping Price_mean  B_Base Shipping Price_max  \n",
       "0                   38.260155                      99.98  \n",
       "1                   38.260155                      99.98  \n",
       "2                   30.379569                      99.45  \n",
       "3                   38.426233                      99.91  \n",
       "4                   38.260155                      99.98  \n",
       "\n",
       "[5 rows x 34 columns]"
      ]
     },
     "execution_count": 20,
     "metadata": {},
     "output_type": "execute_result"
    }
   ],
   "source": [
    "agg_data={\n",
    "    'Artist Reputation':['sum','max','min','mean'],\n",
    "    'Price Of Sculpture':['sum','max','min','mean'],\n",
    "    'Base Shipping Price':['mean','max']\n",
    "    \n",
    "}\n",
    "\n",
    "df = data.groupby(['Fragile','Customer Information']).agg(agg_data)\n",
    "\n",
    "df.columns=['B_' + '_'.join(col).strip() for col in df.columns.values]\n",
    "df.reset_index(inplace=True)\n",
    "\n",
    "data=data.merge(df,on=['Fragile','Customer Information'],how='left')\n",
    "data.head()"
   ]
  },
  {
   "cell_type": "code",
   "execution_count": 21,
   "metadata": {},
   "outputs": [
    {
     "name": "stdout",
     "output_type": "stream",
     "text": [
      "['B_Price Of Sculpture_sum', 'B_Price Of Sculpture_max', 'B_Price Of Sculpture_mean']\n"
     ]
    }
   ],
   "source": [
    "to_drop=[]\n",
    "corr_matrix = data.drop(['Cost'],axis=1).corr()\n",
    "# print(corr_matrix)\n",
    "upper = corr_matrix.where(np.triu(np.ones(corr_matrix.shape), k=1).astype(np.bool))\n",
    "upper   \n",
    "\n",
    "to_drop = [column for column in upper.columns if any(upper[column] > 0.9)]\n",
    "print(to_drop)\n"
   ]
  },
  {
   "cell_type": "code",
   "execution_count": 22,
   "metadata": {},
   "outputs": [],
   "source": [
    "data.drop(to_drop,inplace=True,axis=1)"
   ]
  },
  {
   "cell_type": "code",
   "execution_count": 23,
   "metadata": {},
   "outputs": [
    {
     "name": "stdout",
     "output_type": "stream",
     "text": [
      "<class 'pandas.core.frame.DataFrame'>\n",
      "Int64Index: 10000 entries, 0 to 9999\n",
      "Data columns (total 31 columns):\n",
      " #   Column                      Non-Null Count  Dtype  \n",
      "---  ------                      --------------  -----  \n",
      " 0   Artist Reputation           10000 non-null  float64\n",
      " 1   Height                      10000 non-null  float64\n",
      " 2   Width                       10000 non-null  float64\n",
      " 3   Weight                      10000 non-null  float64\n",
      " 4   Material                    10000 non-null  int32  \n",
      " 5   Price Of Sculpture          10000 non-null  float64\n",
      " 6   Base Shipping Price         10000 non-null  float64\n",
      " 7   International               10000 non-null  int32  \n",
      " 8   Express Shipment            10000 non-null  int32  \n",
      " 9   Installation Included       10000 non-null  int32  \n",
      " 10  Transport                   10000 non-null  int32  \n",
      " 11  Fragile                     10000 non-null  int32  \n",
      " 12  Customer Information        10000 non-null  int32  \n",
      " 13  Remote Location             10000 non-null  int32  \n",
      " 14  Cost                        6500 non-null   float64\n",
      " 15  location                    10000 non-null  int32  \n",
      " 16  days                        10000 non-null  int64  \n",
      " 17  A_Artist Reputation_sum     10000 non-null  float64\n",
      " 18  A_Artist Reputation_max     10000 non-null  float64\n",
      " 19  A_Artist Reputation_min     10000 non-null  float64\n",
      " 20  A_Artist Reputation_mean    10000 non-null  float64\n",
      " 21  A_Price Of Sculpture_sum    10000 non-null  float64\n",
      " 22  A_Base Shipping Price_mean  10000 non-null  float64\n",
      " 23  A_Base Shipping Price_max   10000 non-null  float64\n",
      " 24  B_Artist Reputation_sum     10000 non-null  float64\n",
      " 25  B_Artist Reputation_max     10000 non-null  float64\n",
      " 26  B_Artist Reputation_min     10000 non-null  float64\n",
      " 27  B_Artist Reputation_mean    10000 non-null  float64\n",
      " 28  B_Price Of Sculpture_min    10000 non-null  float64\n",
      " 29  B_Base Shipping Price_mean  10000 non-null  float64\n",
      " 30  B_Base Shipping Price_max   10000 non-null  float64\n",
      "dtypes: float64(21), int32(9), int64(1)\n",
      "memory usage: 2.1 MB\n"
     ]
    }
   ],
   "source": [
    "data.info()"
   ]
  },
  {
   "cell_type": "code",
   "execution_count": 24,
   "metadata": {},
   "outputs": [],
   "source": [
    "train=data[~data[\"Cost\"].isna()]\n",
    "test=data[data[\"Cost\"].isna()].drop(\"Cost\", axis=1)"
   ]
  },
  {
   "cell_type": "code",
   "execution_count": 25,
   "metadata": {},
   "outputs": [
    {
     "data": {
      "text/plain": [
       "((6500, 31), (3500, 30))"
      ]
     },
     "execution_count": 25,
     "metadata": {},
     "output_type": "execute_result"
    }
   ],
   "source": [
    "train.shape, test.shape"
   ]
  },
  {
   "cell_type": "code",
   "execution_count": 26,
   "metadata": {},
   "outputs": [],
   "source": [
    "x=train.drop(\"Cost\", axis=1)\n",
    "y=train[[\"Cost\"]].abs()"
   ]
  },
  {
   "cell_type": "code",
   "execution_count": 27,
   "metadata": {},
   "outputs": [
    {
     "data": {
      "text/plain": [
       "[4, 7, 8, 9, 10, 11, 12, 13, 14]"
      ]
     },
     "execution_count": 27,
     "metadata": {},
     "output_type": "execute_result"
    }
   ],
   "source": [
    "cat_features_index = [i for i,col in enumerate(x.columns) if col in cat_col]\n",
    "cat_features_index"
   ]
  },
  {
   "cell_type": "code",
   "execution_count": 28,
   "metadata": {},
   "outputs": [],
   "source": [
    "x_train, x_test, y_train , y_test= train_test_split(x,y, test_size=0.3, random_state=122)"
   ]
  },
  {
   "cell_type": "code",
   "execution_count": 29,
   "metadata": {},
   "outputs": [],
   "source": [
    "def test_accuracy(models):\n",
    "    for i in models:\n",
    "        i.fit(x_train,np.log(y_train))\n",
    "        pred=pd.Series(i.predict(x_test)).abs()\n",
    "        print(\"{}:{}\".format(i,mean_squared_log_error(y_test, np.exp(pred))))"
   ]
  },
  {
   "cell_type": "code",
   "execution_count": 32,
   "metadata": {},
   "outputs": [],
   "source": [
    "ran=RandomForestRegressor(n_jobs=-1)\n",
    "grad=GradientBoostingRegressor()\n",
    "xgb=XGBRegressor()\n",
    "lgb=LGBMRegressor()\n",
    "cat=CatBoostRegressor(verbose=200)"
   ]
  },
  {
   "cell_type": "code",
   "execution_count": 33,
   "metadata": {},
   "outputs": [
    {
     "name": "stdout",
     "output_type": "stream",
     "text": [
      "XGBRegressor(base_score=0.5, booster='gbtree', colsample_bylevel=1,\n",
      "             colsample_bynode=1, colsample_bytree=1, gamma=0, gpu_id=-1,\n",
      "             importance_type='gain', interaction_constraints='',\n",
      "             learning_rate=0.300000012, max_delta_step=0, max_depth=6,\n",
      "             min_child_weight=1, missing=nan, monotone_constraints='()',\n",
      "             n_estimators=100, n_jobs=12, num_parallel_tree=1, random_state=0,\n",
      "             reg_alpha=0, reg_lambda=1, scale_pos_weight=1, subsample=1,\n",
      "             tree_method='exact', validate_parameters=1, verbosity=None):0.09299050116172192\n",
      "RandomForestRegressor(n_jobs=-1):0.12974239931422776\n",
      "LGBMRegressor():0.09291203673494093\n",
      "GradientBoostingRegressor():0.13886608543780896\n",
      "Learning rate set to 0.051112\n",
      "0:\tlearn: 1.5794214\ttotal: 145ms\tremaining: 2m 24s\n",
      "200:\tlearn: 0.2879892\ttotal: 607ms\tremaining: 2.41s\n",
      "400:\tlearn: 0.2196253\ttotal: 1.02s\tremaining: 1.52s\n",
      "600:\tlearn: 0.1896293\ttotal: 1.4s\tremaining: 927ms\n",
      "800:\tlearn: 0.1691163\ttotal: 1.83s\tremaining: 454ms\n",
      "999:\tlearn: 0.1526301\ttotal: 2.2s\tremaining: 0us\n",
      "<catboost.core.CatBoostRegressor object at 0x000002709455C3D0>:0.08034390353377091\n"
     ]
    }
   ],
   "source": [
    "models=[xgb, ran, lgb, grad, cat]\n",
    "test_accuracy(models)"
   ]
  },
  {
   "cell_type": "code",
   "execution_count": 34,
   "metadata": {},
   "outputs": [
    {
     "name": "stdout",
     "output_type": "stream",
     "text": [
      "[0]\tvalidation_0-rmse:4.42469\tvalidation_1-rmse:4.48412\n",
      "[99]\tvalidation_0-rmse:0.08038\tvalidation_1-rmse:0.30529\n"
     ]
    },
    {
     "data": {
      "text/plain": [
       "XGBRegressor(base_score=0.5, booster='gbtree', colsample_bylevel=1,\n",
       "             colsample_bynode=1, colsample_bytree=1, gamma=0, gpu_id=-1,\n",
       "             importance_type='gain', interaction_constraints='',\n",
       "             learning_rate=0.300000012, max_delta_step=0, max_depth=6,\n",
       "             min_child_weight=1, missing=nan, monotone_constraints='()',\n",
       "             n_estimators=100, n_jobs=12, num_parallel_tree=1, random_state=0,\n",
       "             reg_alpha=0, reg_lambda=1, scale_pos_weight=1, subsample=1,\n",
       "             tree_method='exact', validate_parameters=1, verbosity=None)"
      ]
     },
     "execution_count": 34,
     "metadata": {},
     "output_type": "execute_result"
    }
   ],
   "source": [
    "reg1 = XGBRegressor()\n",
    "reg1.fit(x_train,np.log(y_train),eval_set=[(x_train,np.log(y_train)),(x_test,np.log(y_test))],verbose=200)"
   ]
  },
  {
   "cell_type": "code",
   "execution_count": 35,
   "metadata": {},
   "outputs": [
    {
     "data": {
      "text/plain": [
       "0.09299050116172192"
      ]
     },
     "execution_count": 35,
     "metadata": {},
     "output_type": "execute_result"
    }
   ],
   "source": [
    "ypred_xgb = pd.Series(reg1.predict(x_test)).abs()\n",
    "mean_squared_log_error(y_test,np.exp(ypred_xgb))"
   ]
  },
  {
   "cell_type": "code",
   "execution_count": 36,
   "metadata": {},
   "outputs": [
    {
     "data": {
      "text/plain": [
       "LGBMRegressor()"
      ]
     },
     "execution_count": 36,
     "metadata": {},
     "output_type": "execute_result"
    }
   ],
   "source": [
    "reg = LGBMRegressor()\n",
    "reg.fit(x_train,np.log(y_train),eval_set=[(x_train,np.log(y_train)),(x_test, np.log(y_test))],verbose=200)"
   ]
  },
  {
   "cell_type": "code",
   "execution_count": 37,
   "metadata": {},
   "outputs": [
    {
     "data": {
      "text/plain": [
       "0.09291203673494093"
      ]
     },
     "execution_count": 37,
     "metadata": {},
     "output_type": "execute_result"
    }
   ],
   "source": [
    "ypred_lgb = pd.Series(reg.predict(x_test)).abs()\n",
    "mean_squared_log_error(y_test, np.exp(ypred_lgb))"
   ]
  },
  {
   "cell_type": "code",
   "execution_count": 38,
   "metadata": {},
   "outputs": [
    {
     "name": "stdout",
     "output_type": "stream",
     "text": [
      "Learning rate set to 0.061355\n",
      "0:\tlearn: 1.5636267\ttest: 1.5943587\tbest: 1.5943587 (0)\ttotal: 59.5ms\tremaining: 59.5s\n",
      "200:\tlearn: 0.2689695\ttest: 0.3341391\tbest: 0.3341391 (200)\ttotal: 3.21s\tremaining: 12.8s\n",
      "400:\tlearn: 0.2189464\ttest: 0.3011283\tbest: 0.3011283 (400)\ttotal: 6.36s\tremaining: 9.49s\n",
      "600:\tlearn: 0.1935458\ttest: 0.2905532\tbest: 0.2905393 (599)\ttotal: 9.44s\tremaining: 6.27s\n",
      "800:\tlearn: 0.1749176\ttest: 0.2860899\tbest: 0.2860441 (796)\ttotal: 12.6s\tremaining: 3.13s\n",
      "999:\tlearn: 0.1602958\ttest: 0.2829463\tbest: 0.2829358 (994)\ttotal: 15.7s\tremaining: 0us\n",
      "\n",
      "bestTest = 0.2829358407\n",
      "bestIteration = 994\n",
      "\n",
      "Shrink model to first 995 iterations.\n"
     ]
    },
    {
     "data": {
      "text/plain": [
       "<catboost.core.CatBoostRegressor at 0x270947592b0>"
      ]
     },
     "execution_count": 38,
     "metadata": {},
     "output_type": "execute_result"
    }
   ],
   "source": [
    "bst = CatBoostRegressor()\n",
    "bst.fit(x_train,np.log(y_train),eval_set=[(x_test, np.log(y_test))], early_stopping_rounds=100,verbose=200,cat_features=cat_features_index)"
   ]
  },
  {
   "cell_type": "code",
   "execution_count": 39,
   "metadata": {},
   "outputs": [
    {
     "data": {
      "text/plain": [
       "0.07988038574735223"
      ]
     },
     "execution_count": 39,
     "metadata": {},
     "output_type": "execute_result"
    }
   ],
   "source": [
    "ypred_cat = pd.Series(bst.predict(x_test)).abs()\n",
    "mean_squared_log_error(y_test, np.exp(ypred_cat))"
   ]
  },
  {
   "cell_type": "code",
   "execution_count": 40,
   "metadata": {},
   "outputs": [
    {
     "name": "stdout",
     "output_type": "stream",
     "text": [
      "Learning rate set to 0.054463\n",
      "0:\tlearn: 1.5809827\ttotal: 6.6ms\tremaining: 6.59s\n",
      "200:\tlearn: 0.2818571\ttotal: 411ms\tremaining: 1.63s\n",
      "400:\tlearn: 0.2211980\ttotal: 796ms\tremaining: 1.19s\n",
      "600:\tlearn: 0.1944307\ttotal: 1.2s\tremaining: 795ms\n",
      "800:\tlearn: 0.1755646\ttotal: 1.72s\tremaining: 427ms\n",
      "999:\tlearn: 0.1600744\ttotal: 2.28s\tremaining: 0us\n"
     ]
    }
   ],
   "source": [
    "bst.fit(x,np.log(y), verbose=200)\n",
    "prediction=pd.Series(np.exp(bst.predict(test))).abs()"
   ]
  },
  {
   "cell_type": "code",
   "execution_count": 41,
   "metadata": {},
   "outputs": [
    {
     "data": {
      "text/html": [
       "<div>\n",
       "<style scoped>\n",
       "    .dataframe tbody tr th:only-of-type {\n",
       "        vertical-align: middle;\n",
       "    }\n",
       "\n",
       "    .dataframe tbody tr th {\n",
       "        vertical-align: top;\n",
       "    }\n",
       "\n",
       "    .dataframe thead th {\n",
       "        text-align: right;\n",
       "    }\n",
       "</style>\n",
       "<table border=\"1\" class=\"dataframe\">\n",
       "  <thead>\n",
       "    <tr style=\"text-align: right;\">\n",
       "      <th></th>\n",
       "      <th>Customer Id</th>\n",
       "      <th>Cost</th>\n",
       "    </tr>\n",
       "  </thead>\n",
       "  <tbody>\n",
       "    <tr>\n",
       "      <th>0</th>\n",
       "      <td>fffe3400310033003300</td>\n",
       "      <td>270.553321</td>\n",
       "    </tr>\n",
       "    <tr>\n",
       "      <th>1</th>\n",
       "      <td>fffe3600350035003400</td>\n",
       "      <td>266.511813</td>\n",
       "    </tr>\n",
       "    <tr>\n",
       "      <th>2</th>\n",
       "      <td>fffe3700360030003500</td>\n",
       "      <td>169.441282</td>\n",
       "    </tr>\n",
       "    <tr>\n",
       "      <th>3</th>\n",
       "      <td>fffe350038003600</td>\n",
       "      <td>194.820980</td>\n",
       "    </tr>\n",
       "    <tr>\n",
       "      <th>4</th>\n",
       "      <td>fffe3500390032003500</td>\n",
       "      <td>324.448699</td>\n",
       "    </tr>\n",
       "  </tbody>\n",
       "</table>\n",
       "</div>"
      ],
      "text/plain": [
       "            Customer Id        Cost\n",
       "0  fffe3400310033003300  270.553321\n",
       "1  fffe3600350035003400  266.511813\n",
       "2  fffe3700360030003500  169.441282\n",
       "3      fffe350038003600  194.820980\n",
       "4  fffe3500390032003500  324.448699"
      ]
     },
     "execution_count": 41,
     "metadata": {},
     "output_type": "execute_result"
    }
   ],
   "source": [
    "pred=pd.DataFrame(prediction,columns=[\"Cost\"])\n",
    "submission=pd.concat((test_id,pred), axis=1)\n",
    "submission.head()"
   ]
  },
  {
   "cell_type": "code",
   "execution_count": 42,
   "metadata": {},
   "outputs": [],
   "source": [
    "submission.to_csv(\"submission.csv\", index=False)"
   ]
  },
  {
   "cell_type": "code",
   "execution_count": 43,
   "metadata": {},
   "outputs": [
    {
     "data": {
      "image/png": "[encoded data removed]",
      "text/plain": [
       "<Figure size 864x576 with 1 Axes>"
      ]
     },
     "metadata": {
      "needs_background": "light"
     },
     "output_type": "display_data"
    }
   ],
   "source": [
    "plt.figure(figsize=(12,8))\n",
    "lgb.fit(x,np.log(y))\n",
    "a=zip(x.columns,lgb.feature_importances_)\n",
    "feat_imp=pd.DataFrame(a)\n",
    "feat_imp.columns=[\"feat\",\"imp\"]\n",
    "feat_imp=feat_imp.sort_values(by=\"imp\", ascending=False)\n",
    "sns.barplot(data=feat_imp, x=\"imp\", y=\"feat\");\n",
    "#feat_imp.plot(\"feat\",\"imp\",\"barh\",figsize=(12,8));"
   ]
  },
  {
   "cell_type": "code",
   "execution_count": 44,
   "metadata": {},
   "outputs": [
    {
     "data": {
      "text/plain": [
       "['Price Of Sculpture',\n",
       " 'Artist Reputation',\n",
       " 'Base Shipping Price',\n",
       " 'Weight',\n",
       " 'Height',\n",
       " 'Width',\n",
       " 'days',\n",
       " 'location',\n",
       " 'Transport',\n",
       " 'Express Shipment',\n",
       " 'A_Price Of Sculpture_sum',\n",
       " 'Installation Included',\n",
       " 'International',\n",
       " 'A_Artist Reputation_mean',\n",
       " 'B_Artist Reputation_sum',\n",
       " 'Remote Location',\n",
       " 'Material',\n",
       " 'A_Artist Reputation_sum',\n",
       " 'A_Base Shipping Price_mean',\n",
       " 'Customer Information',\n",
       " 'Fragile']"
      ]
     },
     "execution_count": 44,
     "metadata": {},
     "output_type": "execute_result"
    }
   ],
   "source": [
    "feat=list(feat_imp[\"feat\"][:21])\n",
    "feat"
   ]
  },
  {
   "cell_type": "code",
   "execution_count": 45,
   "metadata": {},
   "outputs": [],
   "source": [
    "bst=XGBRegressor(max_depth=12, n_estimators=482, learning_rate=0.1,min_child_weight=15)\n",
    "bst.fit(x[feat],np.log(y))\n",
    "prediction=pd.Series(np.exp(bst.predict(test[feat]))).abs()"
   ]
  },
  {
   "cell_type": "code",
   "execution_count": 46,
   "metadata": {},
   "outputs": [
    {
     "data": {
      "text/html": [
       "<div>\n",
       "<style scoped>\n",
       "    .dataframe tbody tr th:only-of-type {\n",
       "        vertical-align: middle;\n",
       "    }\n",
       "\n",
       "    .dataframe tbody tr th {\n",
       "        vertical-align: top;\n",
       "    }\n",
       "\n",
       "    .dataframe thead th {\n",
       "        text-align: right;\n",
       "    }\n",
       "</style>\n",
       "<table border=\"1\" class=\"dataframe\">\n",
       "  <thead>\n",
       "    <tr style=\"text-align: right;\">\n",
       "      <th></th>\n",
       "      <th>Customer Id</th>\n",
       "      <th>Cost</th>\n",
       "    </tr>\n",
       "  </thead>\n",
       "  <tbody>\n",
       "    <tr>\n",
       "      <th>0</th>\n",
       "      <td>fffe3400310033003300</td>\n",
       "      <td>231.684692</td>\n",
       "    </tr>\n",
       "    <tr>\n",
       "      <th>1</th>\n",
       "      <td>fffe3600350035003400</td>\n",
       "      <td>261.620148</td>\n",
       "    </tr>\n",
       "    <tr>\n",
       "      <th>2</th>\n",
       "      <td>fffe3700360030003500</td>\n",
       "      <td>186.253464</td>\n",
       "    </tr>\n",
       "    <tr>\n",
       "      <th>3</th>\n",
       "      <td>fffe350038003600</td>\n",
       "      <td>179.312103</td>\n",
       "    </tr>\n",
       "    <tr>\n",
       "      <th>4</th>\n",
       "      <td>fffe3500390032003500</td>\n",
       "      <td>336.324554</td>\n",
       "    </tr>\n",
       "  </tbody>\n",
       "</table>\n",
       "</div>"
      ],
      "text/plain": [
       "            Customer Id        Cost\n",
       "0  fffe3400310033003300  231.684692\n",
       "1  fffe3600350035003400  261.620148\n",
       "2  fffe3700360030003500  186.253464\n",
       "3      fffe350038003600  179.312103\n",
       "4  fffe3500390032003500  336.324554"
      ]
     },
     "execution_count": 46,
     "metadata": {},
     "output_type": "execute_result"
    }
   ],
   "source": [
    "pred=pd.DataFrame(prediction,columns=[\"Cost\"])\n",
    "submission=pd.concat((test_id,pred), axis=1)\n",
    "submission.head()"
   ]
  },
  {
   "cell_type": "code",
   "execution_count": 47,
   "metadata": {},
   "outputs": [],
   "source": [
    "submission.to_csv(\"submission.csv\", index=False)"
   ]
  },
  {
   "cell_type": "code",
   "execution_count": null,
   "metadata": {},
   "outputs": [],
   "source": []
  }
 ],
 "metadata": {
  "kernelspec": {
   "display_name": "Python 3",
   "language": "python",
   "name": "python3"
  },
  "language_info": {
   "codemirror_mode": {
    "name": "ipython",
    "version": 3
   },
   "file_extension": ".py",
   "mimetype": "text/x-python",
   "name": "python",
   "nbconvert_exporter": "python",
   "pygments_lexer": "ipython3",
   "version": "3.8.5"
  }
 },
 "nbformat": 4,
 "nbformat_minor": 5
}
